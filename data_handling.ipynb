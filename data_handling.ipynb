{
  "cells": [
    {
      "cell_type": "markdown",
      "metadata": {
        "id": "Eft9Koov4FvG"
      },
      "source": [
        "# **Data Handling**"
      ]
    },
    {
      "cell_type": "markdown",
      "metadata": {
        "id": "f8iJ6NSR4gzc"
      },
      "source": [
        "1. What is the difference between interpreted and compiled languages ?\n",
        "  - Difference between Compiled and Interpreted Language -\n",
        "     *   compiled languages:-\n",
        "     1. A compiled language is a programming language whose implementations are typically compilers and not interpreters.\n",
        "     2. There are at least two steps to get from source code to execution.\n",
        "     3. In this language, compilation errors prevent the code from compiling.\n",
        "    4. Example of compiled language – C, C++, C#, CLEO, COBOL, etc.\n",
        "     *  intepreted languges :-\n",
        "     1. An interpreted language is a programming language whose implementations execute instructions directly and freely, without previously compiling a program into machine-language instructions.\n",
        "     2. There is only one step to get from source code to execution.\n",
        "     3. In this languages, all the debugging occurs at run-time.\n",
        "     4. Example of Interpreted language – JavaScript, Perl, Python, BASIC, etc.\n",
        "\n"
      ]
    },
    {
      "cell_type": "markdown",
      "metadata": {
        "id": "rG3U0oLQ4kmG"
      },
      "source": [
        "2.  What is exception handling in Python?\n",
        "   - Python Exception Handling handles errors that occur during the execution of a program. Exception handling allows to respond to the error, instead of crashing the running program. It enables you to catch and manage errors, making your code more robust and user-friendly."
      ]
    },
    {
      "cell_type": "markdown",
      "metadata": {
        "id": "iwYLg4bg4k9M"
      },
      "source": [
        "3. What is the purpose of the finally block in exception handling?\n",
        " -  A keyword finally, which is always executed after try and except blocks. The finally block always executes after normal termination of try block or after try block terminates due to some exception. Even if you return in the except block still the finally block will execute."
      ]
    },
    {
      "cell_type": "markdown",
      "metadata": {
        "id": "P3vUcmKF4lSu"
      },
      "source": [
        "4. What is logging in Python?\n",
        "  - Python logging is a module that allows you to track events that occur while your program is running. You can use logging to record information about errors, warnings, and other events that occur during program execution. And logging is a useful tool for debugging, troubleshooting, and monitoring your program.\n",
        "\n"
      ]
    },
    {
      "cell_type": "markdown",
      "metadata": {
        "id": "spfjcB1o4lh_"
      },
      "source": [
        ":5. What is the significance of the __del__ method in Python?\n",
        "  - The **del** keyword is used to delete objects. In Python everything is an object, so the del keyword can also be used to delete variables, lists, or parts of a list etc."
      ]
    },
    {
      "cell_type": "markdown",
      "metadata": {
        "id": "Kfg4tblI4l-6"
      },
      "source": [
        "6.  What is the difference between import and from ... import in Python?"
      ]
    },
    {
      "cell_type": "markdown",
      "metadata": {
        "id": "s230In1h4mM-"
      },
      "source": [
        ":7. How can you handle multiple exceptions in Python?\n",
        "  - In Python, multiple exceptions are handled using the try and except blocks. The try block contains the code that might throw an exception, and the except block contains the code that runs if an exception occurs.\n",
        "\n",
        "  To handle multiple exceptions, you can:\n",
        "\n",
        "     * Use multiple except blocks for different types of exceptions\n",
        "     * Group exceptions into a tuple in a single except block\n",
        "    * Deal with each exception individually"
      ]
    },
    {
      "cell_type": "markdown",
      "metadata": {
        "id": "nNjDI6BB4m6w"
      },
      "source": [
        "8. What is the purpose of the with statement when handling files in Python?\n",
        "    - In Python, the \"with\" statement is used to simplify file handling by automatically managing the opening and closing of a file, ensuring that the file is properly closed even if an exception occurs, thus preventing potential resource leaks and improving code readability."
      ]
    },
    {
      "cell_type": "markdown",
      "metadata": {
        "id": "16ddvqYl4nbg"
      },
      "source": [
        "9. What is the difference between multithreading and multiprocessing?\n",
        "   - Difference Between Multiprocessing and Multithreading:-\n",
        "   \n",
        "    **Multithreadiing:-**  1. Multithreading, many threads are created of a single process for increasing computing power.\n",
        "    2.  Multithreading, many threads of a process are executed simultaneously.\n",
        "    3.  Multithreading, a common address space is shared by all the threads.\n",
        "    **Multiprocessing:-** 1. Multithreading, a common address space is shared by all the threads.\n",
        "    2. Multiprocessing, Many processes are executed simultaneously.\n",
        "    3. Multiprocessing, every process owned a separate address space."
      ]
    },
    {
      "cell_type": "markdown",
      "metadata": {
        "id": "U_kbWY0T4n52"
      },
      "source": [
        "10. What are the advantages of using logging in a program?\n",
        "  - Data logging offers several advantages across various fields, including research, engineering, environmental monitoring, and business. Here are some key benefits:\n",
        "\n",
        "       **1. Continuous Monitoring:-** Data loggers can continuously record data over long periods, allowing for real-time monitoring of processes or environments without the need for constant human oversight.\n",
        "    \n",
        "        **2. Accuracy and Precision:-** Automated data collection reduces the chances of human error, leading to more accurate and reliable data.\n",
        "    \n",
        "       **3. Long-Term Data Storage:_** Data loggers can store large amounts of data over extended periods, which is beneficial for longitudinal studies or historical analysis.\n",
        "       \n",
        "       **4. Versatility:-** Data loggers can be used in various applications, including temperature monitoring, humidity tracking, pressure recording, and more, making them adaptable to different industries.\n",
        "     \n",
        "      **5. Cost-Effectiveness:-**  By automating the data collection process, organizations can save on labor costs and reduce the need for manual data entry."
      ]
    },
    {
      "cell_type": "markdown",
      "metadata": {
        "id": "De9qPZ0G4oXC"
      },
      "source": [
        "11. What is memory management in Python?\n",
        " - Python memory management is the process of allocating and dealing with memory so that your programs can run efficiently. One advantage of Python, compared to other programming languages, is that it can perform memory management tasks automatically."
      ]
    },
    {
      "cell_type": "markdown",
      "metadata": {
        "id": "NQS40tjg4o8k"
      },
      "source": [
        "12. What are the basic steps involved in exception handling in Python?"
      ]
    },
    {
      "cell_type": "markdown",
      "metadata": {
        "id": "NdCsfoQu6WVk"
      },
      "source": [
        "13. Why is memory management important in Python?\n",
        "  \n",
        "  **1. Efficient code:-** Writing memory-efficient code can help programs run faster and use fewer resources.\n",
        "  \n",
        "   **2. Avoids memory leaks**: Memory leaks occur when used memory isn't freed, causing RAM usage to increase over time.\n",
        "     \n",
        "     **3. Optimizes resources usage:-** management helps programs access system resources more efficiently."
      ]
    },
    {
      "cell_type": "markdown",
      "metadata": {
        "id": "FBBkR_ff6WuO"
      },
      "source": [
        "14. What is the role of try and except in exception handling?\n",
        "  - The role of try and except n excepton handling:-\n",
        "    \n",
        "     **try:-** This block will test the excepted error to occur\n",
        "    \n",
        "      **except:-** Here you can handle the error3##33#33#3"
      ]
    },
    {
      "cell_type": "markdown",
      "metadata": {
        "id": "V-WKfxe46XEF"
      },
      "source": [
        "15. How does Python's garbage collection system work?\n",
        "   - Garbage collection is Python’s way of automatically managing memory, ensuring that your applications runs smoothly by freeing up memory that is no longer in use. In simpler terms, it is like having an invisible janitor who cleans up after your code, disposing of objects that are no longer needed."
      ]
    },
    {
      "cell_type": "markdown",
      "metadata": {
        "id": "L6F0x3dZ6XZz"
      },
      "source": [
        "16. What is the purpose of the else block in exception handling?\n",
        "  - In exception handling, the \"else\" block is used to execute a specific piece of code only when no exceptions are raised within the \"try\" block, essentially acting as a code section that runs when the operation in the \"try\" block is successful and no errors occur; it allows you to perform additional actions that are only relevant if the operation completes without issue"
      ]
    },
    {
      "cell_type": "markdown",
      "metadata": {
        "id": "jCOoUUK36Xux"
      },
      "source": [
        "17. What are the common logging levels in Python?\n",
        "  - The specific log levels available to you may defer depending on the programming language, logging framework, or service in use. However, in most cases, you can expect to encounter levels such as FATAL , ERROR , WARN , INFO , DEBUG , and TRACE ."
      ]
    },
    {
      "cell_type": "markdown",
      "metadata": {
        "id": "6P7u2yNz6YA1"
      },
      "source": [
        "18. What is the difference between os.fork() and multiprocessing in Python?\n",
        "     - One big issue is that the fork system call does not exist on Windows. Therefore, when running a Windows OS you cannot use this method. multiprocessing is a higher-level interface to execute a part of the currently running program. Therefore, it - as forking does - creates a copy of your process current state. That is to say, it takes care of the forking of your program for you.\n",
        "\n",
        "       Therefore, if available you could consider fork() a lower-level interface to forking a program, and the multiprocessing library to be a higher-level interface to forking."
      ]
    },
    {
      "cell_type": "markdown",
      "metadata": {
        "id": "5atx2cbF6YQa"
      },
      "source": [
        "19. What is the importance of closing a file in Python?\n",
        "    - In Python, a file object (often denoted as fp) is a representation of an open file. When working with files, it is essential to close the file properly to release system resources and ensure data integrity. Closing a file is crucial to avoid potential issues like data corruption and resource leaks.\n",
        "    \n",
        "     Syntax\n",
        "    \n",
        "        fp.close()"
      ]
    },
    {
      "cell_type": "markdown",
      "metadata": {
        "id": "Hy9j50ax7c5Z"
      },
      "source": [
        "20. What is the difference between file.read() and file.readline() in Python?\n",
        "    -  the `read()` method is used to read a specified number of characters from a file or input stream, while the `readline()` method is used to read a single line from a file or input stream."
      ]
    },
    {
      "cell_type": "markdown",
      "metadata": {
        "id": "eXN-RZPt7dUt"
      },
      "source": [
        "21. What is the logging module in Python used for?\n",
        "  - Python logging is a module that allows you to track events that occur while your program is running. You can use logging to record information about errors, warnings, and other events that occur during program execution. And logging is a useful tool for debugging, troubleshooting, and monitoring your program."
      ]
    },
    {
      "cell_type": "markdown",
      "metadata": {
        "id": "o9T_ITOz7dpz"
      },
      "source": [
        ":22. What is the os module in Python used for in file handling?\n",
        "   - The OS module in Python provides functions for interacting with the operating system. OS comes under Python’s standard utility modules. This module provides a portable way of using operating system-dependent functionality.\n",
        "      \n",
        "      The **os** and **os.path** include many functions to interact with the file system."
      ]
    },
    {
      "cell_type": "markdown",
      "metadata": {
        "id": "kRTYfSf77d8E"
      },
      "source": [
        "23. What are the challenges associated with memory management in Python?\n",
        "   - Python memory management is the system that handles how Python programs use and release memory on your computer. It decides how much memory objects need, allocates space for them, and cleans up unused memory when it’s no longer needed. It does this by keeping track of how many times objects are being used and reclaiming memory when they’re no longer in use.\n",
        "      The challenges with memory management:- Python does not have variables, instead, it has ‘names’:\n",
        "      \n",
        "      Python works in a different way and technically, it does not have\n",
        "        anything like ‘variables’, instead, it uses ‘names’. Please note that\n",
        "\n",
        "       · Python ‘name’ is just a label for an object and used to refer to a value.\n",
        "\n",
        "       · We never specify ‘type’ information while creating an object.\n",
        "\n",
        "       · A python ‘name’ can change its type.\n",
        "\n",
        "       · A single Python object can have lots of names.\n",
        "\n",
        "      · Two names will point to the same object if the id(x) method returns the same value."
      ]
    },
    {
      "cell_type": "markdown",
      "metadata": {
        "id": "tqlKNMI07egV"
      },
      "source": [
        "24.  How do you raise an exception manually in Python?\n",
        "    - To manually raise an exception in Python, use the raise statement. Here is an example of how to use it:\n",
        "       \n",
        "       def calculate_payment(amount, payment_type):\n",
        "     \n",
        "        if payment_type != \"Visa\" and payment_type != \"Mastercard\":\n",
        "       \n",
        "        raise ValueError(\"Payment type must be Visa or Mastercard\")\n",
        "    \n",
        "        try:\n",
        "  \n",
        "          calculate_payment(100, \"Discover\")\n",
        "       \n",
        "       except ValueError as e:\n",
        "    \n",
        "          print(e)\n",
        "\n",
        "          In this example, the calculate_payment function raises a ValueError exception if the payment_type is not either \"Visa\" or \"Mastercard\". The try-except block catches the exception and prints the error message.\n",
        "\n",
        "         You can raise any exception type that you want by specifying the exception type as the first argument to the raise statement. For example, to raise a TypeError exception, you can use the following code:\n",
        "         \n",
        "         output:- raise TypeError(\"This is a TypeError exception\")"
      ]
    },
    {
      "cell_type": "markdown",
      "metadata": {
        "id": "tMLBcZoA8dKD"
      },
      "source": [
        "25. Why is it important to use multithreading in certain applications?\n",
        "   - Multithreading is important in certain applications because it allows multiple tasks to execute seemingly simultaneously, making efficient use of system resources like CPU cores, improving performance, enhancing responsiveness, and enabling better scalability by taking advantage of multiple processors on a system, especially when dealing with tasks that can be broken down into independent units.\n",
        "    **bold text**"
      ]
    },
    {
      "cell_type": "code",
      "execution_count": null,
      "metadata": {
        "id": "wL12NJ9e4U8F"
      },
      "outputs": [],
      "source": [
        "#How can you open a file for writing in Python and write a string to it?\n",
        "file = open(\"file.txt\", \"w\")\n",
        "file.write(\"Hello, world!\")\n",
        "file.close()"
      ]
    },
    {
      "cell_type": "code",
      "execution_count": null,
      "metadata": {
        "colab": {
          "background_save": true
        },
        "id": "_Aek_vsD4VSq",
        "outputId": "7165be8d-af4e-4a10-8e7a-d34471b2b478"
      },
      "outputs": [
        {
          "name": "stdout",
          "output_type": "stream",
          "text": [
            "Using for loop\n",
            "Line1: Geeks\n",
            "Line2: for\n",
            "Line3: Geeks\n"
          ]
        }
      ],
      "source": [
        "#Write a Python program to read the contents of a file and print each line\n",
        "L = [\"Geeks\\n\", \"for\\n\", \"Geeks\\n\"]\n",
        "\n",
        "# Writing to file\n",
        "file1 = open('myfile.txt', 'w')\n",
        "file1.writelines(L)\n",
        "file1.close()\n",
        "\n",
        "# Opening file\n",
        "file1 = open('myfile.txt', 'r')\n",
        "count = 0\n",
        "\n",
        "# Using for loop\n",
        "print(\"Using for loop\")\n",
        "for line in file1:\n",
        "    count += 1\n",
        "    print(\"Line{}: {}\".format(count, line.strip()))\n",
        "\n",
        "# Closing files\n",
        "file1.close()"
      ]
    },
    {
      "cell_type": "code",
      "execution_count": null,
      "metadata": {
        "colab": {
          "base_uri": "https://localhost:8080/"
        },
        "id": "87PTC04h8yWU",
        "outputId": "49820e05-a97d-4501-f97f-345f0bb2f785"
      },
      "outputs": [
        {
          "name": "stdout",
          "output_type": "stream",
          "text": [
            "The file does not exist.\n"
          ]
        }
      ],
      "source": [
        "#How would you handle a case where the file doesn't exist while trying to open it for reading?\n",
        "import os\n",
        "\n",
        "file_path = 'non_existent_file.txt'\n",
        "if os.path.exists(file_path):\n",
        "    with open(file_path, 'r') as file:\n",
        "        content = file.read()\n",
        "else:\n",
        "    print(\"The file does not exist.\")"
      ]
    },
    {
      "cell_type": "code",
      "execution_count": null,
      "metadata": {
        "colab": {
          "base_uri": "https://localhost:8080/"
        },
        "id": "01pT-39E8yzy",
        "outputId": "7255c854-80d2-490d-b438-d6a1fcd06171"
      },
      "outputs": [
        {
          "name": "stdout",
          "output_type": "stream",
          "text": [
            "List of files before\n",
            "['.config', 'file2.txt', 'file1.txt', 'sample_data']\n",
            "\n",
            "\n",
            "This is a file1\n",
            "\n",
            "\n",
            "List of files after\n",
            "['.config', 'file2.txt', 'file1.txt', 'sample_data']\n",
            "\n",
            "\n"
          ]
        }
      ],
      "source": [
        "#Write a Python script that reads from one file and writes its content to another file?\n",
        "import os\n",
        "print(\"List of files before\")\n",
        "print(os.listdir())\n",
        "print(\"\\n\")\n",
        "file1 = open('file1.txt' , 'w')\n",
        "file1.write(\"This is a file1\")\n",
        "file1.close()\n",
        "file2 = open('file2.txt' , 'w')\n",
        "file2.write(\"This is a file2\")\n",
        "file2.close()\n",
        "file1 = open('file1.txt' , 'r')\n",
        "file2.txt = open('file2.txt' , 'w')\n",
        "file2.txt.write(file1.read())\n",
        "file2.txt.close()\n",
        "file1.close()\n",
        "file2 = open('file2.txt' , 'r')\n",
        "print(file2.read())\n",
        "file2.close()\n",
        "print(\"\\n\")\n",
        "print(\"List of files after\")\n",
        "print(os.listdir())\n",
        "print(\"\\n\")\n"
      ]
    },
    {
      "cell_type": "code",
      "execution_count": null,
      "metadata": {
        "colab": {
          "base_uri": "https://localhost:8080/"
        },
        "id": "fSq1qGe58zNm",
        "outputId": "1533cb3c-b404-4d76-802e-e2fb0c68b41a"
      },
      "outputs": [
        {
          "name": "stdout",
          "output_type": "stream",
          "text": [
            "Error: Division by zero is not allowed.\n"
          ]
        }
      ],
      "source": [
        "#How would you catch and handle division by zero error in Python?\n",
        "try:\n",
        "    numerator = 1\n",
        "    denominator = 0\n",
        "\n",
        "    if denominator == 0:\n",
        "        raise ArithmeticError(\"Division by zero\")\n",
        "\n",
        "    print(\"Result:\", numerator / denominator)\n",
        "\n",
        "except ArithmeticError as ae:\n",
        "    print(\"Error: Division by zero is not allowed.\")\n",
        "except ValueError as ime:\n",
        "    print(\"Error: Please enter valid integer values.\")\n",
        "except Exception as e:\n",
        "    print(\"An unexpected error occurred:\", str(e))\n",
        "finally:\n",
        "    # finally block\n",
        "    pass\n"
      ]
    },
    {
      "cell_type": "code",
      "execution_count": null,
      "metadata": {
        "id": "KscnzUdN801K"
      },
      "outputs": [],
      "source": [
        "#Write a Python program that logs an error message to a log file when a division by zero exception occurs."
      ]
    },
    {
      "cell_type": "code",
      "execution_count": null,
      "metadata": {
        "colab": {
          "base_uri": "https://localhost:8080/"
        },
        "id": "VL_jDeRD84S3",
        "outputId": "f0def932-ef67-4880-fe2a-08f5127fef70"
      },
      "outputs": [
        {
          "name": "stderr",
          "output_type": "stream",
          "text": [
            "ERROR:root:This is an error message\n",
            "WARNING:root:This is an warning message\n"
          ]
        }
      ],
      "source": [
        "#How do you log information at different levels (INFO, ERROR, WARNING) in Python using the logging module?\n",
        "import logging\n",
        "logging.info(\"This is an info message\")\n",
        "logging.error(\"This is an error message\")\n",
        "logging.warning(\"This is an warning message\")\n"
      ]
    },
    {
      "cell_type": "code",
      "execution_count": null,
      "metadata": {
        "id": "0xlg-ieU84rB"
      },
      "outputs": [],
      "source": [
        "#Write a program to handle a file opening error using exception handlingF\n"
      ]
    },
    {
      "cell_type": "code",
      "execution_count": null,
      "metadata": {
        "colab": {
          "base_uri": "https://localhost:8080/"
        },
        "id": "BgorUBSJ84_d",
        "outputId": "3f6f57bd-8944-40cd-d136-f06caa70deb7"
      },
      "outputs": [
        {
          "name": "stdout",
          "output_type": "stream",
          "text": [
            "Line1: Algebra\n",
            "Line2: Geometry\n",
            "Line3: Stastics\n"
          ]
        }
      ],
      "source": [
        "#How can you read a file line by line and store its content in a list in Python?\n",
        "L = [\"Algebra\\n\", \"Geometry\\n\", \"Stastics\\n\"]\n",
        "\n",
        "file1 = open('myfile.txt', 'w')\n",
        "file1.writelines(L)\n",
        "file1.close()\n",
        "file1 = open('myfile.txt', 'r')\n",
        "Lines = file1.readlines()\n",
        "count = 0\n",
        "for line in Lines:\n",
        "    count += 1\n",
        "    print(\"Line{}: {}\".format(count, line.strip()))\n"
      ]
    },
    {
      "cell_type": "code",
      "execution_count": null,
      "metadata": {
        "colab": {
          "base_uri": "https://localhost:8080/"
        },
        "id": "_4xg78vv85My",
        "outputId": "5cf16e90-d49f-4c59-9508-1efc0a19f27f"
      },
      "outputs": [
        {
          "name": "stdout",
          "output_type": "stream",
          "text": [
            "Output of Readlines after appending\n",
            "This is Delhi \n",
            "This is Paris \n",
            "This is London\n",
            "TodayTomorrow\n",
            "\n"
          ]
        }
      ],
      "source": [
        "# How can you append data to an existing file in Python?\n",
        "file1 = open(\"myfile.txt\", \"w\")\n",
        "L = [\"This is Delhi \\n\", \"This is Paris \\n\", \"This is London\"]\n",
        "file1.writelines(L)\n",
        "file1.close()\n",
        "file1 = open(\"myfile.txt\", \"a\")\n",
        "file1.write(\"\\n\")\n",
        "file1.write(\"Today\")\n",
        "file1.write(\"Tomorrow\")\n",
        "file1 = open(\"myfile.txt\", \"r\")\n",
        "print(\"Output of Readlines after appending\")\n",
        "print(file1.read())\n",
        "print()\n",
        "file1.close()\n"
      ]
    },
    {
      "cell_type": "code",
      "execution_count": null,
      "metadata": {
        "colab": {
          "background_save": true,
          "base_uri": "https://localhost:8080/"
        },
        "id": "rDoEdoBY-adT",
        "outputId": "b37574ef-09e4-4e3c-ff68-225628578cf4"
      },
      "outputs": [
        {
          "name": "stdout",
          "output_type": "stream",
          "text": [
            "That word is a key in the dictionary\n",
            "That word is a key in the dictionary\n",
            "That word is a key in the dictionary\n",
            "That word is a key in the dictionary\n",
            "That word is not a key in the dictionary, try again\n"
          ]
        }
      ],
      "source": [
        "# Write a Python program that uses a try-except block to handle an error when attempting to access a\n",
        "#dictionary key that doesn't exist?\n",
        "dict = {\"These\": 1, \"are\": 2, \"words\": 3}\n",
        "while True:\n",
        "    try:\n",
        "        w = input(\"Enter a word: \")\n",
        "    except:\n",
        "        print(\"That word is not a key in the dictionary, try again\")\n",
        "    else:\n",
        "        print(\"That word is a key in the dictionary\")"
      ]
    },
    {
      "cell_type": "code",
      "execution_count": null,
      "metadata": {
        "id": "bzYs8Y7m-bN_"
      },
      "outputs": [],
      "source": [
        "#Write a program that demonstrates using multiple except blocks to handle different types of exceptions?\n",
        "try:\n",
        "    10/\"3\"\n",
        "except (ZeroDivisionError, TypeError) as e:\n",
        "    print(\"The divison is not possible due the error>>\", e)"
      ]
    },
    {
      "cell_type": "code",
      "execution_count": null,
      "metadata": {
        "id": "e-XIy2hE-cGP"
      },
      "outputs": [],
      "source": [
        "#How would you check if a file exists before attempting to read it in Python?\n",
        "import os\n",
        "if os.path.exists('example.txt'):\n",
        "    print(\"The path exists\")\n",
        "else:\n",
        "    print(\"The path does not exist\")"
      ]
    },
    {
      "cell_type": "code",
      "execution_count": null,
      "metadata": {
        "id": "qHo_1y3h-cil"
      },
      "outputs": [],
      "source": [
        "#Write a program that uses the logging module to log both informational and error messages."
      ]
    },
    {
      "cell_type": "code",
      "execution_count": null,
      "metadata": {
        "id": "kyP7OjHT-c27",
        "colab": {
          "base_uri": "https://localhost:8080/",
          "height": 245
        },
        "outputId": "29d48898-efab-4606-e292-888382a4c93f"
      },
      "outputs": [
        {
          "output_type": "error",
          "ename": "FileNotFoundError",
          "evalue": "[Errno 2] No such file or directory: '/path/to/your/file.txt'",
          "traceback": [
            "\u001b[0;31m---------------------------------------------------------------------------\u001b[0m",
            "\u001b[0;31mFileNotFoundError\u001b[0m                         Traceback (most recent call last)",
            "\u001b[0;32m<ipython-input-1-1994e5888dd0>\u001b[0m in \u001b[0;36m<cell line: 0>\u001b[0;34m()\u001b[0m\n\u001b[1;32m      3\u001b[0m \u001b[0;34m\u001b[0m\u001b[0m\n\u001b[1;32m      4\u001b[0m \u001b[0mfile_path\u001b[0m \u001b[0;34m=\u001b[0m \u001b[0;34m\"/path/to/your/file.txt\"\u001b[0m\u001b[0;34m\u001b[0m\u001b[0;34m\u001b[0m\u001b[0m\n\u001b[0;32m----> 5\u001b[0;31m \u001b[0;32mif\u001b[0m \u001b[0mos\u001b[0m\u001b[0;34m.\u001b[0m\u001b[0mpath\u001b[0m\u001b[0;34m.\u001b[0m\u001b[0mgetsize\u001b[0m\u001b[0;34m(\u001b[0m\u001b[0mfile_path\u001b[0m\u001b[0;34m)\u001b[0m \u001b[0;34m==\u001b[0m \u001b[0;36m0\u001b[0m\u001b[0;34m:\u001b[0m\u001b[0;34m\u001b[0m\u001b[0;34m\u001b[0m\u001b[0m\n\u001b[0m\u001b[1;32m      6\u001b[0m     \u001b[0mprint\u001b[0m\u001b[0;34m(\u001b[0m\u001b[0;34m\"The file is empty.\"\u001b[0m\u001b[0;34m)\u001b[0m\u001b[0;34m\u001b[0m\u001b[0;34m\u001b[0m\u001b[0m\n\u001b[1;32m      7\u001b[0m \u001b[0;32melse\u001b[0m\u001b[0;34m:\u001b[0m\u001b[0;34m\u001b[0m\u001b[0;34m\u001b[0m\u001b[0m\n",
            "\u001b[0;32m/usr/lib/python3.11/genericpath.py\u001b[0m in \u001b[0;36mgetsize\u001b[0;34m(filename)\u001b[0m\n",
            "\u001b[0;31mFileNotFoundError\u001b[0m: [Errno 2] No such file or directory: '/path/to/your/file.txt'"
          ]
        }
      ],
      "source": [
        "# Write a Python program that prints the content of a file and handles the case when the file is empty.\n",
        "import os\n",
        "\n",
        "file_path = \"/path/to/your/file.txt\"\n",
        "if os.path.getsize(file_path) == 0:\n",
        "    print(\"The file is empty.\")\n",
        "else:\n",
        "    print(\"The file is not empty.\")"
      ]
    },
    {
      "cell_type": "code",
      "execution_count": null,
      "metadata": {
        "id": "OyCn2KRM-dTq",
        "colab": {
          "base_uri": "https://localhost:8080/",
          "height": 106
        },
        "outputId": "f6cf35e6-a096-46dc-c4b7-8734b9371ba7"
      },
      "outputs": [
        {
          "output_type": "error",
          "ename": "IndentationError",
          "evalue": "unexpected indent (<ipython-input-6-117a644947a8>, line 3)",
          "traceback": [
            "\u001b[0;36m  File \u001b[0;32m\"<ipython-input-6-117a644947a8>\"\u001b[0;36m, line \u001b[0;32m3\u001b[0m\n\u001b[0;31m    h = hpy()\u001b[0m\n\u001b[0m    ^\u001b[0m\n\u001b[0;31mIndentationError\u001b[0m\u001b[0;31m:\u001b[0m unexpected indent\n"
          ]
        }
      ],
      "source": [
        "# Demonstrate how to use memory profiling to check the memory usage of a small program.\n"
      ]
    },
    {
      "cell_type": "code",
      "execution_count": null,
      "metadata": {
        "id": "6VjnlE9M-e1x"
      },
      "outputs": [],
      "source": [
        "# Write a Python program to create and write a list of numbers to a file, one number per line."
      ]
    },
    {
      "cell_type": "code",
      "execution_count": null,
      "metadata": {
        "id": "nbbojdv1_i1G"
      },
      "outputs": [],
      "source": [
        "# How would you implement a basic logging setup that logs to a file with rotation after 1MB?"
      ]
    },
    {
      "cell_type": "code",
      "execution_count": null,
      "metadata": {
        "id": "hXoUlgWP_jIy"
      },
      "outputs": [],
      "source": [
        "# Write a program that handles both IndexError and KeyError using a try-except block."
      ]
    },
    {
      "cell_type": "code",
      "execution_count": null,
      "metadata": {
        "id": "XJ9qVsVU_jW9"
      },
      "outputs": [],
      "source": [
        "# How would you open a file and read its contents using a context manager in Python?"
      ]
    },
    {
      "cell_type": "code",
      "execution_count": null,
      "metadata": {
        "id": "Cc9uyPxG_jzy"
      },
      "outputs": [],
      "source": [
        "# Write a Python program that reads a file and prints the number of occurrences of a specific word."
      ]
    },
    {
      "cell_type": "code",
      "execution_count": null,
      "metadata": {
        "id": "WRHGvAkMAai1"
      },
      "outputs": [],
      "source": [
        "# How can you check if a file is empty before attempting to read its contents?"
      ]
    },
    {
      "cell_type": "code",
      "execution_count": null,
      "metadata": {
        "id": "dBCHk_YIAazP"
      },
      "outputs": [],
      "source": [
        "# Write a Python program that writes to a log file when an error occurs during file handling.s"
      ]
    }
  ],
  "metadata": {
    "colab": {
      "provenance": []
    },
    "kernelspec": {
      "display_name": "Python 3",
      "name": "python3"
    },
    "language_info": {
      "name": "python"
    }
  },
  "nbformat": 4,
  "nbformat_minor": 0
}